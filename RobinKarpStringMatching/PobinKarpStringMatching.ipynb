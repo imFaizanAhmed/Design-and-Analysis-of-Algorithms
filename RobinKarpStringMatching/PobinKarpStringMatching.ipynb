{
 "cells": [
  {
   "cell_type": "code",
   "execution_count": 146,
   "metadata": {},
   "outputs": [
    {
     "name": "stdout",
     "output_type": "stream",
     "text": [
      "3\n",
      "Pattern found at index 0\n",
      "Pattern found at index 6\n"
     ]
    }
   ],
   "source": [
    "#return the digit that present at index in long\n",
    "def getInteger(long , index):\n",
    "    for i in range(0, index - 1):\n",
    "        long = long // 10\n",
    "    return (long % 10)\n",
    "\n",
    "def search(T, P, d, q):\n",
    "    M = 2\n",
    "    N = 16\n",
    "    h = 1\n",
    "    i = 0\n",
    "    s = 0\n",
    "    p = 0    # to store hash value for pattern \n",
    "    t = 0    # to store hash value for txt \n",
    "    # calcuation h = pow(d, m-1) % q\n",
    "    for i in range(0,M-1): \n",
    "        h = (h * d)% q \n",
    "    print(h)\n",
    "    # calcutating hash value of pattern and text\n",
    "    for i in range(0,M): \n",
    "        p = (d * p + getInteger(P, M - i))% q \n",
    "        t = (d * t + getInteger(T, N - i))% q  \n",
    "    # Matching\n",
    "    for i in range(0,N-M + 1):  \n",
    "        if p == t: \n",
    "            for s in range(0,M): \n",
    "                if getInteger(T, N -(i + s)) != getInteger(P, M - s): \n",
    "                    break\n",
    "\n",
    "            s+= 1\n",
    "            if s == M: \n",
    "                print (\"Pattern found at index\" ,i )\n",
    "\n",
    "        if i < N-M: \n",
    "            t = (d*(t-(getInteger(T, N -i) *h)) + getInteger(T, N - (i + M)) )% q \n",
    "\n",
    "            if t < 0: \n",
    "                t = t + q\n",
    "txt = 2641592653589793\n",
    "pat = 26\n",
    "q = 11 # A prime number\n",
    "d = 256\n",
    "#getInteger(txt, 16-4)\n",
    "search(txt, pat, d, q) "
   ]
  }
 ],
 "metadata": {
  "kernelspec": {
   "display_name": "Python 3",
   "language": "python",
   "name": "python3"
  },
  "language_info": {
   "codemirror_mode": {
    "name": "ipython",
    "version": 3
   },
   "file_extension": ".py",
   "mimetype": "text/x-python",
   "name": "python",
   "nbconvert_exporter": "python",
   "pygments_lexer": "ipython3",
   "version": "3.7.4"
  }
 },
 "nbformat": 4,
 "nbformat_minor": 4
}
