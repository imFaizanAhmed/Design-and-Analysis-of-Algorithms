Pattern = 'abcd'
text    = 'abcdabcdabcda'
m = len(Pattern)
n = len(text)
i = 0
while i < n-m+1:
    if text[i] == Pattern[0]:
        j = 0;
        while j < m:
            if text[i+j] != Pattern[j]:
                break;
            j += 1
        if j == m:
            print( "Pattern's found")
            i += j
        else:
            i += 1
    else:
        i += 1
